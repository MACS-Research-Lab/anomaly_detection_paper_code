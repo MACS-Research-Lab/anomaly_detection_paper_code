{
 "cells": [
  {
   "cell_type": "markdown",
   "id": "0d6cd835",
   "metadata": {},
   "source": [
    "# LBNL Baseline Dataset Reading"
   ]
  },
  {
   "cell_type": "code",
   "execution_count": 46,
   "id": "191008ce",
   "metadata": {},
   "outputs": [],
   "source": [
    "import numpy as np\n",
    "import pandas as pd\n",
    "import matplotlib.pyplot as plt\n",
    "from sklearn.preprocessing import MinMaxScaler"
   ]
  },
  {
   "cell_type": "markdown",
   "id": "87fd8406",
   "metadata": {},
   "source": [
    "## Read in Data"
   ]
  },
  {
   "cell_type": "code",
   "execution_count": 47,
   "id": "304ff86c",
   "metadata": {},
   "outputs": [
    {
     "data": {
      "text/html": [
       "<div>\n",
       "<style scoped>\n",
       "    .dataframe tbody tr th:only-of-type {\n",
       "        vertical-align: middle;\n",
       "    }\n",
       "\n",
       "    .dataframe tbody tr th {\n",
       "        vertical-align: top;\n",
       "    }\n",
       "\n",
       "    .dataframe thead th {\n",
       "        text-align: right;\n",
       "    }\n",
       "</style>\n",
       "<table border=\"1\" class=\"dataframe\">\n",
       "  <thead>\n",
       "    <tr style=\"text-align: right;\">\n",
       "      <th></th>\n",
       "      <th>Datetime</th>\n",
       "      <th>AHU: Supply Air Temperature</th>\n",
       "      <th>AHU: Supply Air Temperature Set Point</th>\n",
       "      <th>AHU: Outdoor Air Temperature</th>\n",
       "      <th>AHU: Mixed Air Temperature</th>\n",
       "      <th>AHU: Return Air Temperature</th>\n",
       "      <th>AHU: Supply Air Fan Status</th>\n",
       "      <th>AHU: Return Air Fan Status</th>\n",
       "      <th>AHU: Supply Air Fan Speed Control Signal</th>\n",
       "      <th>AHU: Return Air Fan Speed Control Signal</th>\n",
       "      <th>AHU: Exhaust Air Damper Control Signal</th>\n",
       "      <th>AHU: Outdoor Air Damper Control Signal</th>\n",
       "      <th>AHU: Return Air Damper Control Signal</th>\n",
       "      <th>AHU: Cooling Coil Valve Control Signal</th>\n",
       "      <th>AHU: Heating Coil Valve Control Signal</th>\n",
       "      <th>AHU: Supply Air Duct Static Pressure Set Point</th>\n",
       "      <th>AHU: Supply Air Duct Static Pressure</th>\n",
       "      <th>Occupancy Mode Indicator</th>\n",
       "      <th>Fault Detection Ground Truth</th>\n",
       "    </tr>\n",
       "  </thead>\n",
       "  <tbody>\n",
       "    <tr>\n",
       "      <th>0</th>\n",
       "      <td>8/28/2007 0:00</td>\n",
       "      <td>75.92</td>\n",
       "      <td>55</td>\n",
       "      <td>80.61</td>\n",
       "      <td>73.54</td>\n",
       "      <td>73.86</td>\n",
       "      <td>0</td>\n",
       "      <td>0</td>\n",
       "      <td>0.2</td>\n",
       "      <td>0.2</td>\n",
       "      <td>0.0</td>\n",
       "      <td>0.0</td>\n",
       "      <td>1.0</td>\n",
       "      <td>0.0</td>\n",
       "      <td>0.0</td>\n",
       "      <td>1.4</td>\n",
       "      <td>0.0</td>\n",
       "      <td>0</td>\n",
       "      <td>1</td>\n",
       "    </tr>\n",
       "    <tr>\n",
       "      <th>1</th>\n",
       "      <td>8/28/2007 0:01</td>\n",
       "      <td>75.71</td>\n",
       "      <td>55</td>\n",
       "      <td>80.68</td>\n",
       "      <td>73.54</td>\n",
       "      <td>73.86</td>\n",
       "      <td>0</td>\n",
       "      <td>0</td>\n",
       "      <td>0.2</td>\n",
       "      <td>0.2</td>\n",
       "      <td>0.0</td>\n",
       "      <td>0.0</td>\n",
       "      <td>1.0</td>\n",
       "      <td>0.0</td>\n",
       "      <td>0.0</td>\n",
       "      <td>1.4</td>\n",
       "      <td>0.0</td>\n",
       "      <td>0</td>\n",
       "      <td>1</td>\n",
       "    </tr>\n",
       "    <tr>\n",
       "      <th>2</th>\n",
       "      <td>8/28/2007 0:02</td>\n",
       "      <td>75.71</td>\n",
       "      <td>55</td>\n",
       "      <td>80.66</td>\n",
       "      <td>73.54</td>\n",
       "      <td>73.86</td>\n",
       "      <td>0</td>\n",
       "      <td>0</td>\n",
       "      <td>0.2</td>\n",
       "      <td>0.2</td>\n",
       "      <td>0.0</td>\n",
       "      <td>0.0</td>\n",
       "      <td>1.0</td>\n",
       "      <td>0.0</td>\n",
       "      <td>0.0</td>\n",
       "      <td>1.4</td>\n",
       "      <td>0.0</td>\n",
       "      <td>0</td>\n",
       "      <td>1</td>\n",
       "    </tr>\n",
       "    <tr>\n",
       "      <th>3</th>\n",
       "      <td>8/28/2007 0:03</td>\n",
       "      <td>75.60</td>\n",
       "      <td>55</td>\n",
       "      <td>80.69</td>\n",
       "      <td>73.54</td>\n",
       "      <td>73.86</td>\n",
       "      <td>0</td>\n",
       "      <td>0</td>\n",
       "      <td>0.2</td>\n",
       "      <td>0.2</td>\n",
       "      <td>0.0</td>\n",
       "      <td>0.0</td>\n",
       "      <td>1.0</td>\n",
       "      <td>0.0</td>\n",
       "      <td>0.0</td>\n",
       "      <td>1.4</td>\n",
       "      <td>0.0</td>\n",
       "      <td>0</td>\n",
       "      <td>1</td>\n",
       "    </tr>\n",
       "    <tr>\n",
       "      <th>4</th>\n",
       "      <td>8/28/2007 0:04</td>\n",
       "      <td>75.81</td>\n",
       "      <td>55</td>\n",
       "      <td>80.60</td>\n",
       "      <td>73.54</td>\n",
       "      <td>73.86</td>\n",
       "      <td>0</td>\n",
       "      <td>0</td>\n",
       "      <td>0.2</td>\n",
       "      <td>0.2</td>\n",
       "      <td>0.0</td>\n",
       "      <td>0.0</td>\n",
       "      <td>1.0</td>\n",
       "      <td>0.0</td>\n",
       "      <td>0.0</td>\n",
       "      <td>1.4</td>\n",
       "      <td>0.0</td>\n",
       "      <td>0</td>\n",
       "      <td>1</td>\n",
       "    </tr>\n",
       "    <tr>\n",
       "      <th>...</th>\n",
       "      <td>...</td>\n",
       "      <td>...</td>\n",
       "      <td>...</td>\n",
       "      <td>...</td>\n",
       "      <td>...</td>\n",
       "      <td>...</td>\n",
       "      <td>...</td>\n",
       "      <td>...</td>\n",
       "      <td>...</td>\n",
       "      <td>...</td>\n",
       "      <td>...</td>\n",
       "      <td>...</td>\n",
       "      <td>...</td>\n",
       "      <td>...</td>\n",
       "      <td>...</td>\n",
       "      <td>...</td>\n",
       "      <td>...</td>\n",
       "      <td>...</td>\n",
       "      <td>...</td>\n",
       "    </tr>\n",
       "    <tr>\n",
       "      <th>21595</th>\n",
       "      <td>5/31/2009 23:55</td>\n",
       "      <td>66.88</td>\n",
       "      <td>55</td>\n",
       "      <td>67.31</td>\n",
       "      <td>66.44</td>\n",
       "      <td>72.60</td>\n",
       "      <td>0</td>\n",
       "      <td>0</td>\n",
       "      <td>0.2</td>\n",
       "      <td>0.2</td>\n",
       "      <td>0.0</td>\n",
       "      <td>0.0</td>\n",
       "      <td>0.0</td>\n",
       "      <td>0.0</td>\n",
       "      <td>0.0</td>\n",
       "      <td>1.4</td>\n",
       "      <td>0.0</td>\n",
       "      <td>0</td>\n",
       "      <td>0</td>\n",
       "    </tr>\n",
       "    <tr>\n",
       "      <th>21596</th>\n",
       "      <td>5/31/2009 23:56</td>\n",
       "      <td>66.77</td>\n",
       "      <td>55</td>\n",
       "      <td>67.29</td>\n",
       "      <td>66.44</td>\n",
       "      <td>72.60</td>\n",
       "      <td>0</td>\n",
       "      <td>0</td>\n",
       "      <td>0.2</td>\n",
       "      <td>0.2</td>\n",
       "      <td>0.0</td>\n",
       "      <td>0.0</td>\n",
       "      <td>0.0</td>\n",
       "      <td>0.0</td>\n",
       "      <td>0.0</td>\n",
       "      <td>1.4</td>\n",
       "      <td>0.0</td>\n",
       "      <td>0</td>\n",
       "      <td>0</td>\n",
       "    </tr>\n",
       "    <tr>\n",
       "      <th>21597</th>\n",
       "      <td>5/31/2009 23:57</td>\n",
       "      <td>66.88</td>\n",
       "      <td>55</td>\n",
       "      <td>67.23</td>\n",
       "      <td>66.54</td>\n",
       "      <td>72.71</td>\n",
       "      <td>0</td>\n",
       "      <td>0</td>\n",
       "      <td>0.2</td>\n",
       "      <td>0.2</td>\n",
       "      <td>0.0</td>\n",
       "      <td>0.0</td>\n",
       "      <td>0.0</td>\n",
       "      <td>0.0</td>\n",
       "      <td>0.0</td>\n",
       "      <td>1.4</td>\n",
       "      <td>0.0</td>\n",
       "      <td>0</td>\n",
       "      <td>0</td>\n",
       "    </tr>\n",
       "    <tr>\n",
       "      <th>21598</th>\n",
       "      <td>5/31/2009 23:58</td>\n",
       "      <td>66.99</td>\n",
       "      <td>55</td>\n",
       "      <td>67.21</td>\n",
       "      <td>66.54</td>\n",
       "      <td>72.71</td>\n",
       "      <td>0</td>\n",
       "      <td>0</td>\n",
       "      <td>0.2</td>\n",
       "      <td>0.2</td>\n",
       "      <td>0.0</td>\n",
       "      <td>0.0</td>\n",
       "      <td>0.0</td>\n",
       "      <td>0.0</td>\n",
       "      <td>0.0</td>\n",
       "      <td>1.4</td>\n",
       "      <td>0.0</td>\n",
       "      <td>0</td>\n",
       "      <td>0</td>\n",
       "    </tr>\n",
       "    <tr>\n",
       "      <th>21599</th>\n",
       "      <td>5/31/2009 23:59</td>\n",
       "      <td>66.99</td>\n",
       "      <td>55</td>\n",
       "      <td>67.18</td>\n",
       "      <td>66.44</td>\n",
       "      <td>72.60</td>\n",
       "      <td>0</td>\n",
       "      <td>0</td>\n",
       "      <td>0.2</td>\n",
       "      <td>0.2</td>\n",
       "      <td>0.0</td>\n",
       "      <td>0.0</td>\n",
       "      <td>0.0</td>\n",
       "      <td>0.0</td>\n",
       "      <td>0.0</td>\n",
       "      <td>1.4</td>\n",
       "      <td>0.0</td>\n",
       "      <td>0</td>\n",
       "      <td>0</td>\n",
       "    </tr>\n",
       "  </tbody>\n",
       "</table>\n",
       "<p>21600 rows × 19 columns</p>\n",
       "</div>"
      ],
      "text/plain": [
       "              Datetime  AHU: Supply Air Temperature  \\\n",
       "0       8/28/2007 0:00                        75.92   \n",
       "1       8/28/2007 0:01                        75.71   \n",
       "2       8/28/2007 0:02                        75.71   \n",
       "3       8/28/2007 0:03                        75.60   \n",
       "4       8/28/2007 0:04                        75.81   \n",
       "...                ...                          ...   \n",
       "21595  5/31/2009 23:55                        66.88   \n",
       "21596  5/31/2009 23:56                        66.77   \n",
       "21597  5/31/2009 23:57                        66.88   \n",
       "21598  5/31/2009 23:58                        66.99   \n",
       "21599  5/31/2009 23:59                        66.99   \n",
       "\n",
       "       AHU: Supply Air Temperature Set Point  AHU: Outdoor Air Temperature  \\\n",
       "0                                         55                         80.61   \n",
       "1                                         55                         80.68   \n",
       "2                                         55                         80.66   \n",
       "3                                         55                         80.69   \n",
       "4                                         55                         80.60   \n",
       "...                                      ...                           ...   \n",
       "21595                                     55                         67.31   \n",
       "21596                                     55                         67.29   \n",
       "21597                                     55                         67.23   \n",
       "21598                                     55                         67.21   \n",
       "21599                                     55                         67.18   \n",
       "\n",
       "       AHU: Mixed Air Temperature  AHU: Return Air Temperature  \\\n",
       "0                           73.54                        73.86   \n",
       "1                           73.54                        73.86   \n",
       "2                           73.54                        73.86   \n",
       "3                           73.54                        73.86   \n",
       "4                           73.54                        73.86   \n",
       "...                           ...                          ...   \n",
       "21595                       66.44                        72.60   \n",
       "21596                       66.44                        72.60   \n",
       "21597                       66.54                        72.71   \n",
       "21598                       66.54                        72.71   \n",
       "21599                       66.44                        72.60   \n",
       "\n",
       "       AHU: Supply Air Fan Status  AHU: Return Air Fan Status  \\\n",
       "0                               0                           0   \n",
       "1                               0                           0   \n",
       "2                               0                           0   \n",
       "3                               0                           0   \n",
       "4                               0                           0   \n",
       "...                           ...                         ...   \n",
       "21595                           0                           0   \n",
       "21596                           0                           0   \n",
       "21597                           0                           0   \n",
       "21598                           0                           0   \n",
       "21599                           0                           0   \n",
       "\n",
       "       AHU: Supply Air Fan Speed Control Signal  \\\n",
       "0                                           0.2   \n",
       "1                                           0.2   \n",
       "2                                           0.2   \n",
       "3                                           0.2   \n",
       "4                                           0.2   \n",
       "...                                         ...   \n",
       "21595                                       0.2   \n",
       "21596                                       0.2   \n",
       "21597                                       0.2   \n",
       "21598                                       0.2   \n",
       "21599                                       0.2   \n",
       "\n",
       "       AHU: Return Air Fan Speed Control Signal  \\\n",
       "0                                           0.2   \n",
       "1                                           0.2   \n",
       "2                                           0.2   \n",
       "3                                           0.2   \n",
       "4                                           0.2   \n",
       "...                                         ...   \n",
       "21595                                       0.2   \n",
       "21596                                       0.2   \n",
       "21597                                       0.2   \n",
       "21598                                       0.2   \n",
       "21599                                       0.2   \n",
       "\n",
       "       AHU: Exhaust Air Damper Control Signal    \\\n",
       "0                                           0.0   \n",
       "1                                           0.0   \n",
       "2                                           0.0   \n",
       "3                                           0.0   \n",
       "4                                           0.0   \n",
       "...                                         ...   \n",
       "21595                                       0.0   \n",
       "21596                                       0.0   \n",
       "21597                                       0.0   \n",
       "21598                                       0.0   \n",
       "21599                                       0.0   \n",
       "\n",
       "       AHU: Outdoor Air Damper Control Signal    \\\n",
       "0                                           0.0   \n",
       "1                                           0.0   \n",
       "2                                           0.0   \n",
       "3                                           0.0   \n",
       "4                                           0.0   \n",
       "...                                         ...   \n",
       "21595                                       0.0   \n",
       "21596                                       0.0   \n",
       "21597                                       0.0   \n",
       "21598                                       0.0   \n",
       "21599                                       0.0   \n",
       "\n",
       "       AHU: Return Air Damper Control Signal  \\\n",
       "0                                        1.0   \n",
       "1                                        1.0   \n",
       "2                                        1.0   \n",
       "3                                        1.0   \n",
       "4                                        1.0   \n",
       "...                                      ...   \n",
       "21595                                    0.0   \n",
       "21596                                    0.0   \n",
       "21597                                    0.0   \n",
       "21598                                    0.0   \n",
       "21599                                    0.0   \n",
       "\n",
       "       AHU: Cooling Coil Valve Control Signal  \\\n",
       "0                                         0.0   \n",
       "1                                         0.0   \n",
       "2                                         0.0   \n",
       "3                                         0.0   \n",
       "4                                         0.0   \n",
       "...                                       ...   \n",
       "21595                                     0.0   \n",
       "21596                                     0.0   \n",
       "21597                                     0.0   \n",
       "21598                                     0.0   \n",
       "21599                                     0.0   \n",
       "\n",
       "       AHU: Heating Coil Valve Control Signal  \\\n",
       "0                                         0.0   \n",
       "1                                         0.0   \n",
       "2                                         0.0   \n",
       "3                                         0.0   \n",
       "4                                         0.0   \n",
       "...                                       ...   \n",
       "21595                                     0.0   \n",
       "21596                                     0.0   \n",
       "21597                                     0.0   \n",
       "21598                                     0.0   \n",
       "21599                                     0.0   \n",
       "\n",
       "       AHU: Supply Air Duct Static Pressure Set Point  \\\n",
       "0                                                 1.4   \n",
       "1                                                 1.4   \n",
       "2                                                 1.4   \n",
       "3                                                 1.4   \n",
       "4                                                 1.4   \n",
       "...                                               ...   \n",
       "21595                                             1.4   \n",
       "21596                                             1.4   \n",
       "21597                                             1.4   \n",
       "21598                                             1.4   \n",
       "21599                                             1.4   \n",
       "\n",
       "       AHU: Supply Air Duct Static Pressure   Occupancy Mode Indicator  \\\n",
       "0                                        0.0                         0   \n",
       "1                                        0.0                         0   \n",
       "2                                        0.0                         0   \n",
       "3                                        0.0                         0   \n",
       "4                                        0.0                         0   \n",
       "...                                      ...                       ...   \n",
       "21595                                    0.0                         0   \n",
       "21596                                    0.0                         0   \n",
       "21597                                    0.0                         0   \n",
       "21598                                    0.0                         0   \n",
       "21599                                    0.0                         0   \n",
       "\n",
       "       Fault Detection Ground Truth  \n",
       "0                                 1  \n",
       "1                                 1  \n",
       "2                                 1  \n",
       "3                                 1  \n",
       "4                                 1  \n",
       "...                             ...  \n",
       "21595                             0  \n",
       "21596                             0  \n",
       "21597                             0  \n",
       "21598                             0  \n",
       "21599                             0  \n",
       "\n",
       "[21600 rows x 19 columns]"
      ]
     },
     "execution_count": 47,
     "metadata": {},
     "output_type": "execute_result"
    }
   ],
   "source": [
    "real_data = pd.read_csv(\"../data/lbnl/real_ahu.csv\")\n",
    "real_data"
   ]
  },
  {
   "cell_type": "code",
   "execution_count": 48,
   "id": "1dd1d8c3",
   "metadata": {},
   "outputs": [
    {
     "data": {
      "text/html": [
       "<div>\n",
       "<style scoped>\n",
       "    .dataframe tbody tr th:only-of-type {\n",
       "        vertical-align: middle;\n",
       "    }\n",
       "\n",
       "    .dataframe tbody tr th {\n",
       "        vertical-align: top;\n",
       "    }\n",
       "\n",
       "    .dataframe thead th {\n",
       "        text-align: right;\n",
       "    }\n",
       "</style>\n",
       "<table border=\"1\" class=\"dataframe\">\n",
       "  <thead>\n",
       "    <tr style=\"text-align: right;\">\n",
       "      <th></th>\n",
       "      <th>Datetime</th>\n",
       "      <th>AHU: Supply Air Temperature</th>\n",
       "      <th>AHU: Supply Air Temperature Set Point</th>\n",
       "      <th>AHU: Outdoor Air Temperature</th>\n",
       "      <th>AHU: Mixed Air Temperature</th>\n",
       "      <th>AHU: Return Air Temperature</th>\n",
       "      <th>AHU: Supply Air Fan Status</th>\n",
       "      <th>AHU: Return Air Fan Status</th>\n",
       "      <th>AHU: Supply Air Fan Speed Control Signal</th>\n",
       "      <th>AHU: Return Air Fan Speed Control Signal</th>\n",
       "      <th>AHU: Exhaust Air Damper Control Signal</th>\n",
       "      <th>AHU: Outdoor Air Damper Control Signal</th>\n",
       "      <th>AHU: Return Air Damper Control Signal</th>\n",
       "      <th>AHU: Cooling Coil Valve Control Signal</th>\n",
       "      <th>AHU: Heating Coil Valve Control Signal</th>\n",
       "      <th>AHU: Supply Air Duct Static Pressure Set Point</th>\n",
       "      <th>AHU: Supply Air Duct Static Pressure</th>\n",
       "      <th>Occupancy Mode Indicator</th>\n",
       "      <th>Fault Detection Ground Truth</th>\n",
       "    </tr>\n",
       "  </thead>\n",
       "  <tbody>\n",
       "    <tr>\n",
       "      <th>0</th>\n",
       "      <td>8/28/2007 0:00</td>\n",
       "      <td>77.13</td>\n",
       "      <td>55</td>\n",
       "      <td>80.61</td>\n",
       "      <td>75.86</td>\n",
       "      <td>75.19</td>\n",
       "      <td>1</td>\n",
       "      <td>0</td>\n",
       "      <td>1.0</td>\n",
       "      <td>0.0</td>\n",
       "      <td>0.0</td>\n",
       "      <td>0.0</td>\n",
       "      <td>1.0</td>\n",
       "      <td>0.0</td>\n",
       "      <td>0.0</td>\n",
       "      <td>1.4</td>\n",
       "      <td>0.06</td>\n",
       "      <td>0</td>\n",
       "      <td>1</td>\n",
       "    </tr>\n",
       "    <tr>\n",
       "      <th>1</th>\n",
       "      <td>8/28/2007 0:01</td>\n",
       "      <td>77.63</td>\n",
       "      <td>55</td>\n",
       "      <td>80.68</td>\n",
       "      <td>75.38</td>\n",
       "      <td>75.18</td>\n",
       "      <td>1</td>\n",
       "      <td>0</td>\n",
       "      <td>1.0</td>\n",
       "      <td>0.0</td>\n",
       "      <td>0.0</td>\n",
       "      <td>0.0</td>\n",
       "      <td>1.0</td>\n",
       "      <td>0.0</td>\n",
       "      <td>0.0</td>\n",
       "      <td>1.4</td>\n",
       "      <td>0.17</td>\n",
       "      <td>0</td>\n",
       "      <td>1</td>\n",
       "    </tr>\n",
       "    <tr>\n",
       "      <th>2</th>\n",
       "      <td>8/28/2007 0:02</td>\n",
       "      <td>77.87</td>\n",
       "      <td>55</td>\n",
       "      <td>80.66</td>\n",
       "      <td>75.28</td>\n",
       "      <td>75.18</td>\n",
       "      <td>1</td>\n",
       "      <td>0</td>\n",
       "      <td>1.0</td>\n",
       "      <td>0.0</td>\n",
       "      <td>0.0</td>\n",
       "      <td>0.0</td>\n",
       "      <td>1.0</td>\n",
       "      <td>0.0</td>\n",
       "      <td>0.0</td>\n",
       "      <td>1.4</td>\n",
       "      <td>0.34</td>\n",
       "      <td>0</td>\n",
       "      <td>1</td>\n",
       "    </tr>\n",
       "    <tr>\n",
       "      <th>3</th>\n",
       "      <td>8/28/2007 0:03</td>\n",
       "      <td>77.95</td>\n",
       "      <td>55</td>\n",
       "      <td>80.69</td>\n",
       "      <td>75.27</td>\n",
       "      <td>75.20</td>\n",
       "      <td>1</td>\n",
       "      <td>0</td>\n",
       "      <td>1.0</td>\n",
       "      <td>0.0</td>\n",
       "      <td>0.0</td>\n",
       "      <td>0.0</td>\n",
       "      <td>1.0</td>\n",
       "      <td>0.0</td>\n",
       "      <td>0.0</td>\n",
       "      <td>1.4</td>\n",
       "      <td>0.57</td>\n",
       "      <td>0</td>\n",
       "      <td>1</td>\n",
       "    </tr>\n",
       "    <tr>\n",
       "      <th>4</th>\n",
       "      <td>8/28/2007 0:04</td>\n",
       "      <td>78.59</td>\n",
       "      <td>55</td>\n",
       "      <td>80.60</td>\n",
       "      <td>75.29</td>\n",
       "      <td>75.24</td>\n",
       "      <td>1</td>\n",
       "      <td>0</td>\n",
       "      <td>1.0</td>\n",
       "      <td>0.0</td>\n",
       "      <td>0.0</td>\n",
       "      <td>0.0</td>\n",
       "      <td>1.0</td>\n",
       "      <td>0.0</td>\n",
       "      <td>0.0</td>\n",
       "      <td>1.4</td>\n",
       "      <td>1.00</td>\n",
       "      <td>0</td>\n",
       "      <td>1</td>\n",
       "    </tr>\n",
       "    <tr>\n",
       "      <th>...</th>\n",
       "      <td>...</td>\n",
       "      <td>...</td>\n",
       "      <td>...</td>\n",
       "      <td>...</td>\n",
       "      <td>...</td>\n",
       "      <td>...</td>\n",
       "      <td>...</td>\n",
       "      <td>...</td>\n",
       "      <td>...</td>\n",
       "      <td>...</td>\n",
       "      <td>...</td>\n",
       "      <td>...</td>\n",
       "      <td>...</td>\n",
       "      <td>...</td>\n",
       "      <td>...</td>\n",
       "      <td>...</td>\n",
       "      <td>...</td>\n",
       "      <td>...</td>\n",
       "      <td>...</td>\n",
       "    </tr>\n",
       "    <tr>\n",
       "      <th>37435</th>\n",
       "      <td>5/15/2009 23:55</td>\n",
       "      <td>62.56</td>\n",
       "      <td>55</td>\n",
       "      <td>55.62</td>\n",
       "      <td>55.62</td>\n",
       "      <td>57.88</td>\n",
       "      <td>0</td>\n",
       "      <td>0</td>\n",
       "      <td>0.0</td>\n",
       "      <td>0.0</td>\n",
       "      <td>0.0</td>\n",
       "      <td>0.0</td>\n",
       "      <td>1.0</td>\n",
       "      <td>0.0</td>\n",
       "      <td>0.0</td>\n",
       "      <td>1.4</td>\n",
       "      <td>0.01</td>\n",
       "      <td>0</td>\n",
       "      <td>0</td>\n",
       "    </tr>\n",
       "    <tr>\n",
       "      <th>37436</th>\n",
       "      <td>5/15/2009 23:56</td>\n",
       "      <td>62.55</td>\n",
       "      <td>55</td>\n",
       "      <td>55.59</td>\n",
       "      <td>55.59</td>\n",
       "      <td>57.89</td>\n",
       "      <td>0</td>\n",
       "      <td>0</td>\n",
       "      <td>0.0</td>\n",
       "      <td>0.0</td>\n",
       "      <td>0.0</td>\n",
       "      <td>0.0</td>\n",
       "      <td>1.0</td>\n",
       "      <td>0.0</td>\n",
       "      <td>0.0</td>\n",
       "      <td>1.4</td>\n",
       "      <td>0.01</td>\n",
       "      <td>0</td>\n",
       "      <td>0</td>\n",
       "    </tr>\n",
       "    <tr>\n",
       "      <th>37437</th>\n",
       "      <td>5/15/2009 23:57</td>\n",
       "      <td>62.54</td>\n",
       "      <td>55</td>\n",
       "      <td>55.50</td>\n",
       "      <td>55.50</td>\n",
       "      <td>57.89</td>\n",
       "      <td>0</td>\n",
       "      <td>0</td>\n",
       "      <td>0.0</td>\n",
       "      <td>0.0</td>\n",
       "      <td>0.0</td>\n",
       "      <td>0.0</td>\n",
       "      <td>1.0</td>\n",
       "      <td>0.0</td>\n",
       "      <td>0.0</td>\n",
       "      <td>1.4</td>\n",
       "      <td>0.01</td>\n",
       "      <td>0</td>\n",
       "      <td>0</td>\n",
       "    </tr>\n",
       "    <tr>\n",
       "      <th>37438</th>\n",
       "      <td>5/15/2009 23:58</td>\n",
       "      <td>62.52</td>\n",
       "      <td>55</td>\n",
       "      <td>55.49</td>\n",
       "      <td>55.49</td>\n",
       "      <td>57.88</td>\n",
       "      <td>0</td>\n",
       "      <td>0</td>\n",
       "      <td>0.0</td>\n",
       "      <td>0.0</td>\n",
       "      <td>0.0</td>\n",
       "      <td>0.0</td>\n",
       "      <td>1.0</td>\n",
       "      <td>0.0</td>\n",
       "      <td>0.0</td>\n",
       "      <td>1.4</td>\n",
       "      <td>0.01</td>\n",
       "      <td>0</td>\n",
       "      <td>0</td>\n",
       "    </tr>\n",
       "    <tr>\n",
       "      <th>37439</th>\n",
       "      <td>5/15/2009 23:59</td>\n",
       "      <td>62.51</td>\n",
       "      <td>55</td>\n",
       "      <td>55.48</td>\n",
       "      <td>55.48</td>\n",
       "      <td>57.88</td>\n",
       "      <td>0</td>\n",
       "      <td>0</td>\n",
       "      <td>0.0</td>\n",
       "      <td>0.0</td>\n",
       "      <td>0.0</td>\n",
       "      <td>0.0</td>\n",
       "      <td>1.0</td>\n",
       "      <td>0.0</td>\n",
       "      <td>0.0</td>\n",
       "      <td>1.4</td>\n",
       "      <td>0.01</td>\n",
       "      <td>0</td>\n",
       "      <td>0</td>\n",
       "    </tr>\n",
       "  </tbody>\n",
       "</table>\n",
       "<p>37440 rows × 19 columns</p>\n",
       "</div>"
      ],
      "text/plain": [
       "              Datetime  AHU: Supply Air Temperature  \\\n",
       "0       8/28/2007 0:00                        77.13   \n",
       "1       8/28/2007 0:01                        77.63   \n",
       "2       8/28/2007 0:02                        77.87   \n",
       "3       8/28/2007 0:03                        77.95   \n",
       "4       8/28/2007 0:04                        78.59   \n",
       "...                ...                          ...   \n",
       "37435  5/15/2009 23:55                        62.56   \n",
       "37436  5/15/2009 23:56                        62.55   \n",
       "37437  5/15/2009 23:57                        62.54   \n",
       "37438  5/15/2009 23:58                        62.52   \n",
       "37439  5/15/2009 23:59                        62.51   \n",
       "\n",
       "       AHU: Supply Air Temperature Set Point  AHU: Outdoor Air Temperature  \\\n",
       "0                                         55                         80.61   \n",
       "1                                         55                         80.68   \n",
       "2                                         55                         80.66   \n",
       "3                                         55                         80.69   \n",
       "4                                         55                         80.60   \n",
       "...                                      ...                           ...   \n",
       "37435                                     55                         55.62   \n",
       "37436                                     55                         55.59   \n",
       "37437                                     55                         55.50   \n",
       "37438                                     55                         55.49   \n",
       "37439                                     55                         55.48   \n",
       "\n",
       "       AHU: Mixed Air Temperature  AHU: Return Air Temperature  \\\n",
       "0                           75.86                        75.19   \n",
       "1                           75.38                        75.18   \n",
       "2                           75.28                        75.18   \n",
       "3                           75.27                        75.20   \n",
       "4                           75.29                        75.24   \n",
       "...                           ...                          ...   \n",
       "37435                       55.62                        57.88   \n",
       "37436                       55.59                        57.89   \n",
       "37437                       55.50                        57.89   \n",
       "37438                       55.49                        57.88   \n",
       "37439                       55.48                        57.88   \n",
       "\n",
       "       AHU: Supply Air Fan Status  AHU: Return Air Fan Status  \\\n",
       "0                               1                           0   \n",
       "1                               1                           0   \n",
       "2                               1                           0   \n",
       "3                               1                           0   \n",
       "4                               1                           0   \n",
       "...                           ...                         ...   \n",
       "37435                           0                           0   \n",
       "37436                           0                           0   \n",
       "37437                           0                           0   \n",
       "37438                           0                           0   \n",
       "37439                           0                           0   \n",
       "\n",
       "       AHU: Supply Air Fan Speed Control Signal  \\\n",
       "0                                           1.0   \n",
       "1                                           1.0   \n",
       "2                                           1.0   \n",
       "3                                           1.0   \n",
       "4                                           1.0   \n",
       "...                                         ...   \n",
       "37435                                       0.0   \n",
       "37436                                       0.0   \n",
       "37437                                       0.0   \n",
       "37438                                       0.0   \n",
       "37439                                       0.0   \n",
       "\n",
       "       AHU: Return Air Fan Speed Control Signal  \\\n",
       "0                                           0.0   \n",
       "1                                           0.0   \n",
       "2                                           0.0   \n",
       "3                                           0.0   \n",
       "4                                           0.0   \n",
       "...                                         ...   \n",
       "37435                                       0.0   \n",
       "37436                                       0.0   \n",
       "37437                                       0.0   \n",
       "37438                                       0.0   \n",
       "37439                                       0.0   \n",
       "\n",
       "       AHU: Exhaust Air Damper Control Signal    \\\n",
       "0                                           0.0   \n",
       "1                                           0.0   \n",
       "2                                           0.0   \n",
       "3                                           0.0   \n",
       "4                                           0.0   \n",
       "...                                         ...   \n",
       "37435                                       0.0   \n",
       "37436                                       0.0   \n",
       "37437                                       0.0   \n",
       "37438                                       0.0   \n",
       "37439                                       0.0   \n",
       "\n",
       "       AHU: Outdoor Air Damper Control Signal    \\\n",
       "0                                           0.0   \n",
       "1                                           0.0   \n",
       "2                                           0.0   \n",
       "3                                           0.0   \n",
       "4                                           0.0   \n",
       "...                                         ...   \n",
       "37435                                       0.0   \n",
       "37436                                       0.0   \n",
       "37437                                       0.0   \n",
       "37438                                       0.0   \n",
       "37439                                       0.0   \n",
       "\n",
       "       AHU: Return Air Damper Control Signal  \\\n",
       "0                                        1.0   \n",
       "1                                        1.0   \n",
       "2                                        1.0   \n",
       "3                                        1.0   \n",
       "4                                        1.0   \n",
       "...                                      ...   \n",
       "37435                                    1.0   \n",
       "37436                                    1.0   \n",
       "37437                                    1.0   \n",
       "37438                                    1.0   \n",
       "37439                                    1.0   \n",
       "\n",
       "       AHU: Cooling Coil Valve Control Signal  \\\n",
       "0                                         0.0   \n",
       "1                                         0.0   \n",
       "2                                         0.0   \n",
       "3                                         0.0   \n",
       "4                                         0.0   \n",
       "...                                       ...   \n",
       "37435                                     0.0   \n",
       "37436                                     0.0   \n",
       "37437                                     0.0   \n",
       "37438                                     0.0   \n",
       "37439                                     0.0   \n",
       "\n",
       "       AHU: Heating Coil Valve Control Signal  \\\n",
       "0                                         0.0   \n",
       "1                                         0.0   \n",
       "2                                         0.0   \n",
       "3                                         0.0   \n",
       "4                                         0.0   \n",
       "...                                       ...   \n",
       "37435                                     0.0   \n",
       "37436                                     0.0   \n",
       "37437                                     0.0   \n",
       "37438                                     0.0   \n",
       "37439                                     0.0   \n",
       "\n",
       "       AHU: Supply Air Duct Static Pressure Set Point  \\\n",
       "0                                                 1.4   \n",
       "1                                                 1.4   \n",
       "2                                                 1.4   \n",
       "3                                                 1.4   \n",
       "4                                                 1.4   \n",
       "...                                               ...   \n",
       "37435                                             1.4   \n",
       "37436                                             1.4   \n",
       "37437                                             1.4   \n",
       "37438                                             1.4   \n",
       "37439                                             1.4   \n",
       "\n",
       "       AHU: Supply Air Duct Static Pressure   Occupancy Mode Indicator  \\\n",
       "0                                       0.06                         0   \n",
       "1                                       0.17                         0   \n",
       "2                                       0.34                         0   \n",
       "3                                       0.57                         0   \n",
       "4                                       1.00                         0   \n",
       "...                                      ...                       ...   \n",
       "37435                                   0.01                         0   \n",
       "37436                                   0.01                         0   \n",
       "37437                                   0.01                         0   \n",
       "37438                                   0.01                         0   \n",
       "37439                                   0.01                         0   \n",
       "\n",
       "       Fault Detection Ground Truth  \n",
       "0                                 1  \n",
       "1                                 1  \n",
       "2                                 1  \n",
       "3                                 1  \n",
       "4                                 1  \n",
       "...                             ...  \n",
       "37435                             0  \n",
       "37436                             0  \n",
       "37437                             0  \n",
       "37438                             0  \n",
       "37439                             0  \n",
       "\n",
       "[37440 rows x 19 columns]"
      ]
     },
     "execution_count": 48,
     "metadata": {},
     "output_type": "execute_result"
    }
   ],
   "source": [
    "simulated_data = pd.read_csv(\"../data/lbnl/simulated_ahu.csv\")\n",
    "simulated_data"
   ]
  },
  {
   "cell_type": "code",
   "execution_count": null,
   "id": "15f5f39b",
   "metadata": {},
   "outputs": [],
   "source": [
    "simulated_data['Fault Detection Ground Truth']"
   ]
  },
  {
   "cell_type": "code",
   "execution_count": null,
   "id": "e6fa38c9",
   "metadata": {},
   "outputs": [],
   "source": [
    "from collections import Counter\n",
    "Counter(simulated_data['Fault Detection Ground Truth'])\n"
   ]
  },
  {
   "cell_type": "code",
   "execution_count": null,
   "id": "8ee2486b",
   "metadata": {},
   "outputs": [],
   "source": [
    "from collections import Counter\n",
    "Counter(real_data['Fault Detection Ground Truth'])"
   ]
  },
  {
   "cell_type": "markdown",
   "id": "957d2c46",
   "metadata": {},
   "source": [
    "## Inspecting Dates Available"
   ]
  },
  {
   "cell_type": "code",
   "execution_count": 49,
   "id": "b1133e1a",
   "metadata": {},
   "outputs": [],
   "source": [
    "real_data['Datetime'] = pd.to_datetime(real_data['Datetime'])\n",
    "simulated_data['Datetime'] = pd.to_datetime(simulated_data['Datetime'])"
   ]
  },
  {
   "cell_type": "code",
   "execution_count": null,
   "id": "9d34ac84",
   "metadata": {},
   "outputs": [],
   "source": [
    "np.unique(real_data['Datetime'].dt.date)"
   ]
  },
  {
   "cell_type": "markdown",
   "id": "616f4c3d",
   "metadata": {},
   "source": [
    "The last two dates are not given in the dataset description. Since we cannot be sure whether they are faulty, let's drop them."
   ]
  },
  {
   "cell_type": "code",
   "execution_count": 50,
   "id": "54930978",
   "metadata": {},
   "outputs": [],
   "source": [
    "unknown_dates = ['2009-5-31', '2009-5-30'] \n",
    "\n",
    "for unknown_date in unknown_dates:\n",
    "    real_data = real_data[real_data['Datetime'].dt.date != pd.to_datetime(unknown_date).date()]"
   ]
  },
  {
   "cell_type": "code",
   "execution_count": null,
   "id": "bdb4a57b",
   "metadata": {},
   "outputs": [],
   "source": [
    "np.unique(real_data['Datetime'].dt.date)"
   ]
  },
  {
   "cell_type": "code",
   "execution_count": null,
   "id": "942cf671",
   "metadata": {},
   "outputs": [],
   "source": [
    "np.unique(simulated_data['Datetime'].dt.date)"
   ]
  },
  {
   "cell_type": "markdown",
   "id": "e3570ca3",
   "metadata": {},
   "source": [
    "Add unique IDs to each date to make sequencing the data easier"
   ]
  },
  {
   "cell_type": "code",
   "execution_count": 51,
   "id": "4bf50ea7",
   "metadata": {},
   "outputs": [],
   "source": [
    "def add_id(df):\n",
    "    df['date'] = df['Datetime'].dt.date\n",
    "    df['ID'] = pd.factorize(df['date'])[0]\n",
    "    df.drop('date', axis=1, inplace=True)\n",
    "    \n",
    "    return df"
   ]
  },
  {
   "cell_type": "code",
   "execution_count": 52,
   "id": "aae212d9",
   "metadata": {},
   "outputs": [],
   "source": [
    "real_data = add_id(real_data)\n",
    "simulated_data = add_id(simulated_data)"
   ]
  },
  {
   "cell_type": "markdown",
   "id": "ab901a0c",
   "metadata": {},
   "source": [
    "## Select only normal labels"
   ]
  },
  {
   "cell_type": "code",
   "execution_count": 53,
   "id": "ef5c3e38",
   "metadata": {},
   "outputs": [],
   "source": [
    "real_data_normal = real_data[real_data['Fault Detection Ground Truth'] == 0]\n",
    "simulated_data_normal = simulated_data[simulated_data['Fault Detection Ground Truth'] == 0]\n",
    "\n",
    "real_data_anomaly = real_data[real_data['Fault Detection Ground Truth'] == 1]\n",
    "simulated_data_anomaly = simulated_data[simulated_data['Fault Detection Ground Truth'] == 1]"
   ]
  },
  {
   "cell_type": "markdown",
   "id": "4eba4561",
   "metadata": {},
   "source": [
    "## Selecting Features"
   ]
  },
  {
   "cell_type": "code",
   "execution_count": 55,
   "id": "c14006bd",
   "metadata": {},
   "outputs": [],
   "source": [
    "simulated_y = simulated_data['Fault Detection Ground Truth']\n",
    "real_y = real_data['Fault Detection Ground Truth']\n",
    "\n",
    "simulated_normal_y = simulated_data_normal['Fault Detection Ground Truth']\n",
    "real_normal_y = real_data_normal['Fault Detection Ground Truth']\n",
    "\n",
    "simulated_anomaly_y = simulated_data_anomaly['Fault Detection Ground Truth']\n",
    "real_anomaly_y = real_data_anomaly['Fault Detection Ground Truth']"
   ]
  },
  {
   "cell_type": "code",
   "execution_count": 56,
   "id": "b5afc561",
   "metadata": {},
   "outputs": [],
   "source": [
    "non_x_columns = ['Datetime', 'Fault Detection Ground Truth', 'ID']\n",
    "kept_columns = [c for c in real_data.columns if c not in non_x_columns]\n",
    "\n",
    "real_X = real_data[kept_columns]\n",
    "simulated_X = simulated_data[kept_columns]\n",
    "\n",
    "real_normal_X = real_data_normal[kept_columns]\n",
    "simulated_normal_X = simulated_data_normal[kept_columns]\n",
    "\n",
    "real_anomaly_X = real_data_anomaly[kept_columns]\n",
    "simulated_anomaly_X = simulated_data_anomaly[kept_columns]"
   ]
  },
  {
   "cell_type": "markdown",
   "id": "9f145f86",
   "metadata": {},
   "source": [
    "## Normalizing Data"
   ]
  },
  {
   "cell_type": "code",
   "execution_count": 57,
   "id": "600dad50",
   "metadata": {},
   "outputs": [],
   "source": [
    "real_scaler = MinMaxScaler() # assuming you train on simulated normal and test on simulated abnormal and real.\n",
    "simulated_normal_X = real_scaler.fit_transform(simulated_normal_X)\n",
    "simulated_anomaly_X = real_scaler.transform(simulated_anomaly_X)\n",
    "\n",
    "real_X = real_scaler.transform(real_X)\n",
    "real_normal_X = real_scaler.transform(real_normal_X)\n",
    "real_anomaly_X = real_scaler.transform(real_anomaly_X)"
   ]
  },
  {
   "cell_type": "markdown",
   "id": "dcaf5e8f",
   "metadata": {},
   "source": [
    "## Sequencing Data"
   ]
  },
  {
   "cell_type": "code",
   "execution_count": 58,
   "id": "f6c4aa79",
   "metadata": {},
   "outputs": [],
   "source": [
    "def sequence_data(df, ids, timestep=10):\n",
    "    sequenced_data = []\n",
    "    \n",
    "    np_df = np.array(df)\n",
    "    id_array = np.array(ids)\n",
    "    \n",
    "    for i in range(timestep, len(id_array)):\n",
    "        if id_array[i-timestep] == id_array[i]:\n",
    "            sequenced_data.append(np_df[i-timestep:i])\n",
    "            \n",
    "    return np.array(sequenced_data)"
   ]
  },
  {
   "cell_type": "code",
   "execution_count": 108,
   "id": "213a6886",
   "metadata": {},
   "outputs": [],
   "source": [
    "num_timestep = 10\n",
    "# train\n",
    "sequenced_simulated_normal = sequence_data(simulated_normal_X, simulated_data_normal['ID'], timestep=num_timestep)\n",
    "\n",
    "# test\n",
    "sequenced_simulated_anomaly = sequence_data(simulated_anomaly_X, simulated_data_anomaly['ID'], timestep=num_timestep)\n",
    "sequenced_real = sequence_data(real_X, real_data['ID'], timestep=num_timestep)\n",
    "\n",
    "# validation\n",
    "sequenced_real_normal = sequence_data(real_normal_X, real_data_normal['ID'], timestep=num_timestep)"
   ]
  },
  {
   "cell_type": "code",
   "execution_count": 78,
   "id": "6ac3a6a4",
   "metadata": {},
   "outputs": [],
   "source": [
    "sequenced_simulated_anomaly_y = sequence_data(simulated_anomaly_y, simulated_data_anomaly['ID'], timestep=num_timestep)\n",
    "sequenced_real_y = sequence_data(real_y, real_data['ID'], timestep=num_timestep)"
   ]
  },
  {
   "cell_type": "code",
   "execution_count": 210,
   "id": "09d26203",
   "metadata": {},
   "outputs": [],
   "source": [
    "sequenced_simulated = sequence_data(simulated_X, simulated_data['ID'], timestep=num_timestep)"
   ]
  },
  {
   "cell_type": "code",
   "execution_count": 165,
   "id": "f8ed0aca",
   "metadata": {},
   "outputs": [
    {
     "data": {
      "text/plain": [
       "(18590, 10)"
      ]
     },
     "execution_count": 165,
     "metadata": {},
     "output_type": "execute_result"
    }
   ],
   "source": [
    "sequenced_real_y.shape"
   ]
  },
  {
   "cell_type": "code",
   "execution_count": 228,
   "id": "c95632af",
   "metadata": {},
   "outputs": [],
   "source": [
    "def sequence_labels(df, ids, timestep=10):\n",
    "    sequenced_labels = []\n",
    "    \n",
    "    np_df = np.array(df['Fault Detection Ground Truth'])\n",
    "    id_array = np.array(ids)\n",
    "    \n",
    "    for i in range(timestep, len(id_array)):\n",
    "        if id_array[i-timestep] == id_array[i]:\n",
    "            # Taking majority label for each sequence\n",
    "            label = 1 if np.sum(np_df[i-timestep:i]) > (timestep / 2) else 0\n",
    "            sequenced_labels.append(label)\n",
    "            \n",
    "    return np.array(sequenced_labels)\n",
    "\n",
    "# Get sequenced ground truth labels\n",
    "sequenced_simulated_normal_labels = sequence_labels(simulated_data_normal, simulated_data_normal['ID'], timestep=num_timestep)\n",
    "sequenced_simulated_anomaly_labels = np.ones(18590)\n",
    "sequenced_real_labels = sequence_labels(real_data, real_data['ID'], timestep=num_timestep)\n"
   ]
  },
  {
   "cell_type": "code",
   "execution_count": 60,
   "id": "7a309755",
   "metadata": {},
   "outputs": [
    {
     "name": "stdout",
     "output_type": "stream",
     "text": [
      "Unsequenced simulated shape (18720, 17)\n",
      "Sequenced simluated shape (18590, 10, 17)\n",
      "Unsequenced simulated anomaly shape (18720, 17)\n",
      "Sequenced simulated anomaly shape (18590, 10, 17)\n",
      "Unsequenced real shape (15840, 17)\n",
      "Sequenced real shape (18590, 10, 17)\n"
     ]
    }
   ],
   "source": [
    "print(f'Unsequenced simulated shape {simulated_normal_X.shape}')\n",
    "print(f'Sequenced simluated shape {sequenced_simulated_normal.shape}')\n",
    "\n",
    "print(f'Unsequenced simulated anomaly shape {simulated_anomaly_X.shape}')\n",
    "print(f'Sequenced simulated anomaly shape {sequenced_simulated_anomaly.shape}')\n",
    "print(f'Unsequenced real shape {real_normal_X.shape}')\n",
    "print(f'Sequenced real shape {sequenced_real.shape}')\n"
   ]
  },
  {
   "cell_type": "markdown",
   "id": "9e42dc7c",
   "metadata": {},
   "source": [
    "Let's check that the sequence makes sense for peace of mind."
   ]
  },
  {
   "cell_type": "code",
   "execution_count": 63,
   "id": "5d0b4671",
   "metadata": {},
   "outputs": [
    {
     "data": {
      "text/plain": [
       "<matplotlib.legend.Legend at 0x217a7206bc0>"
      ]
     },
     "execution_count": 63,
     "metadata": {},
     "output_type": "execute_result"
    },
    {
     "data": {
      "image/png": "[encoded data removed]",
      "text/plain": [
       "<Figure size 1000x500 with 1 Axes>"
      ]
     },
     "metadata": {},
     "output_type": "display_data"
    }
   ],
   "source": [
    "plt.plot(real_X[1:10,3], alpha=0.5, marker='x', label='unsequenced')\n",
    "plt.plot(sequenced_real[1,0:10,3], alpha=0.25, marker='o', label='sequenced')\n",
    "plt.legend()"
   ]
  },
  {
   "cell_type": "markdown",
   "id": "5eab3e0c",
   "metadata": {},
   "source": [
    "## Autoencoder setup"
   ]
  },
  {
   "cell_type": "code",
   "execution_count": 109,
   "id": "8b7357af",
   "metadata": {},
   "outputs": [],
   "source": [
    "from sklearn.model_selection import train_test_split\n",
    "x_val, x_val_holdout = train_test_split(sequenced_real_normal, test_size=0.8, shuffle=False)"
   ]
  },
  {
   "cell_type": "code",
   "execution_count": 186,
   "id": "fc2044c0",
   "metadata": {},
   "outputs": [],
   "source": [
    "x_train = sequenced_simulated_normal\n",
    "num_epochs = 30\n",
    "batch_size = 32"
   ]
  },
  {
   "cell_type": "code",
   "execution_count": 124,
   "id": "a0f32aea",
   "metadata": {},
   "outputs": [
    {
     "name": "stdout",
     "output_type": "stream",
     "text": [
      "Trial 10 Complete [00h 02m 15s]\n",
      "val_loss: 0.05707871541380882\n",
      "\n",
      "Best val_loss So Far: 0.04972519725561142\n",
      "Total elapsed time: 00h 33m 46s\n",
      "INFO:tensorflow:Oracle triggered exit\n"
     ]
    }
   ],
   "source": [
    "from kerastuner import RandomSearch\n",
    "from tensorflow.keras import regularizers\n",
    "\n",
    "def build_model(hp):\n",
    "    model = keras.Sequential()\n",
    "    model.add(layers.Input(shape=(x_train.shape[1], x_train.shape[2])))\n",
    "    \n",
    "    # Encoder\n",
    "    for i in range(hp.Int('num_layers', 2, 4)):\n",
    "        model.add(layers.LSTM(hp.Int('units_' + str(i), min_value=4, max_value=16, step=4),\n",
    "                              activation=hp.Choice('activation', ['relu', 'tanh']),\n",
    "                              return_sequences=True if i < hp.Int('num_layers', 2, 4) - 1 else False,\n",
    "                              kernel_regularizer=regularizers.l2(0.01)))\n",
    "        model.add(layers.Dropout(hp.Float('dropout', 0.1, 0.5, step=0.1)))\n",
    "    \n",
    "    model.add(layers.RepeatVector(x_train.shape[1]))\n",
    "    \n",
    "    # Decoder\n",
    "    for i in range(hp.Int('num_layers', 2, 4) - 1, -1, -1): # Going in reverse order to symmetrically add LSTM layers\n",
    "        model.add(layers.LSTM(hp.Int('units_' + str(i), min_value=4, max_value=16, step=4),\n",
    "                              activation=hp.Choice('activation', ['relu', 'tanh']),\n",
    "                              return_sequences=True,\n",
    "                              kernel_regularizer=regularizers.l2(0.01)))\n",
    "        model.add(layers.Dropout(hp.Float('dropout', 0.1, 0.5, step=0.1)))\n",
    "        \n",
    "    model.add(layers.TimeDistributed(layers.Dense(x_train.shape[2]))) # Ensure output has same shape as input\n",
    "    \n",
    "    model.compile(optimizer='adam', loss='mean_squared_error')\n",
    "    return model\n",
    "\n",
    "\n",
    "tuner = RandomSearch(\n",
    "    build_model,\n",
    "    objective='val_loss',\n",
    "    max_trials=10,\n",
    "    executions_per_trial=1,\n",
    "    directory='auto_tuner_dir',\n",
    "    project_name='anomaly_detection')\n",
    "\n",
    "tuner.search_space_summary()\n",
    "\n",
    "tuner.search(x_train, x_train, epochs=num_epochs, batch_size=batch_size, \n",
    "             validation_data=(x_val, x_val), callbacks=[keras.callbacks.EarlyStopping(monitor='val_loss', patience=5, restore_best_weights=True)])\n",
    "\n",
    "best_model = tuner.get_best_models()[0]\n"
   ]
  },
  {
   "cell_type": "code",
   "execution_count": 125,
   "id": "d400dd73",
   "metadata": {},
   "outputs": [
    {
     "name": "stdout",
     "output_type": "stream",
     "text": [
      "Model: \"sequential\"\n",
      "_________________________________________________________________\n",
      " Layer (type)                Output Shape              Param #   \n",
      "=================================================================\n",
      " lstm (LSTM)                 (None, 10, 4)             352       \n",
      "                                                                 \n",
      " dropout (Dropout)           (None, 10, 4)             0         \n",
      "                                                                 \n",
      " lstm_1 (LSTM)               (None, 12)                816       \n",
      "                                                                 \n",
      " dropout_1 (Dropout)         (None, 12)                0         \n",
      "                                                                 \n",
      " repeat_vector (RepeatVecto  (None, 10, 12)            0         \n",
      " r)                                                              \n",
      "                                                                 \n",
      " lstm_2 (LSTM)               (None, 10, 12)            1200      \n",
      "                                                                 \n",
      " dropout_2 (Dropout)         (None, 10, 12)            0         \n",
      "                                                                 \n",
      " lstm_3 (LSTM)               (None, 10, 4)             272       \n",
      "                                                                 \n",
      " dropout_3 (Dropout)         (None, 10, 4)             0         \n",
      "                                                                 \n",
      " time_distributed (TimeDist  (None, 10, 17)            85        \n",
      " ributed)                                                        \n",
      "                                                                 \n",
      "=================================================================\n",
      "Total params: 2725 (10.64 KB)\n",
      "Trainable params: 2725 (10.64 KB)\n",
      "Non-trainable params: 0 (0.00 Byte)\n",
      "_________________________________________________________________\n"
     ]
    }
   ],
   "source": [
    "best_model.summary()"
   ]
  },
  {
   "cell_type": "code",
   "execution_count": 126,
   "id": "69488f0e",
   "metadata": {},
   "outputs": [
    {
     "name": "stderr",
     "output_type": "stream",
     "text": [
      "c:\\Users\\rheah\\AppData\\Local\\Programs\\Python\\Python310\\lib\\site-packages\\keras\\src\\engine\\training.py:3000: UserWarning: You are saving your model as an HDF5 file via `model.save()`. This file format is considered legacy. We recommend using instead the native Keras format, e.g. `model.save('my_model.keras')`.\n",
      "  saving_api.save_model(\n"
     ]
    }
   ],
   "source": [
    "best_model.save(\"../model/best_LSTM_autoencoder.h5\")"
   ]
  },
  {
   "cell_type": "markdown",
   "id": "de59dbc0",
   "metadata": {},
   "source": [
    "- Also try Austin's LSTM setup to make sure I didn't do anything wrong (ae_model)"
   ]
  },
  {
   "cell_type": "code",
   "execution_count": 249,
   "id": "f98241ea",
   "metadata": {},
   "outputs": [
    {
     "name": "stdout",
     "output_type": "stream",
     "text": [
      "Epoch 1/15\n",
      "580/581 [============================>.] - ETA: 0s - loss: 0.0622WARNING:tensorflow:Early stopping conditioned on metric `val_loss` which is not available. Available metrics are: loss\n",
      "581/581 [==============================] - 11s 13ms/step - loss: 0.0621\n",
      "Epoch 2/15\n",
      "581/581 [==============================] - ETA: 0s - loss: 0.0080WARNING:tensorflow:Early stopping conditioned on metric `val_loss` which is not available. Available metrics are: loss\n",
      "581/581 [==============================] - 8s 14ms/step - loss: 0.0080\n",
      "Epoch 3/15\n",
      "579/581 [============================>.] - ETA: 0s - loss: 0.0057WARNING:tensorflow:Early stopping conditioned on metric `val_loss` which is not available. Available metrics are: loss\n",
      "581/581 [==============================] - 8s 15ms/step - loss: 0.0057\n",
      "Epoch 4/15\n",
      "581/581 [==============================] - ETA: 0s - loss: 0.0046WARNING:tensorflow:Early stopping conditioned on metric `val_loss` which is not available. Available metrics are: loss\n",
      "581/581 [==============================] - 8s 14ms/step - loss: 0.0046\n",
      "Epoch 5/15\n",
      "579/581 [============================>.] - ETA: 0s - loss: 0.0039WARNING:tensorflow:Early stopping conditioned on metric `val_loss` which is not available. Available metrics are: loss\n",
      "581/581 [==============================] - 9s 16ms/step - loss: 0.0039\n",
      "Epoch 6/15\n",
      "578/581 [============================>.] - ETA: 0s - loss: 0.0034WARNING:tensorflow:Early stopping conditioned on metric `val_loss` which is not available. Available metrics are: loss\n",
      "581/581 [==============================] - 11s 19ms/step - loss: 0.0034\n",
      "Epoch 7/15\n",
      "578/581 [============================>.] - ETA: 0s - loss: 0.0031WARNING:tensorflow:Early stopping conditioned on metric `val_loss` which is not available. Available metrics are: loss\n",
      "581/581 [==============================] - 10s 17ms/step - loss: 0.0031\n",
      "Epoch 8/15\n",
      "579/581 [============================>.] - ETA: 0s - loss: 0.0028WARNING:tensorflow:Early stopping conditioned on metric `val_loss` which is not available. Available metrics are: loss\n",
      "581/581 [==============================] - 9s 15ms/step - loss: 0.0028\n",
      "Epoch 9/15\n",
      "580/581 [============================>.] - ETA: 0s - loss: 0.0026WARNING:tensorflow:Early stopping conditioned on metric `val_loss` which is not available. Available metrics are: loss\n",
      "581/581 [==============================] - 9s 15ms/step - loss: 0.0026\n",
      "Epoch 10/15\n",
      "578/581 [============================>.] - ETA: 0s - loss: 0.0025WARNING:tensorflow:Early stopping conditioned on metric `val_loss` which is not available. Available metrics are: loss\n",
      "581/581 [==============================] - 9s 16ms/step - loss: 0.0025\n",
      "Epoch 11/15\n",
      "580/581 [============================>.] - ETA: 0s - loss: 0.0024WARNING:tensorflow:Early stopping conditioned on metric `val_loss` which is not available. Available metrics are: loss\n",
      "581/581 [==============================] - 9s 15ms/step - loss: 0.0024\n",
      "Epoch 12/15\n",
      "578/581 [============================>.] - ETA: 0s - loss: 0.0023WARNING:tensorflow:Early stopping conditioned on metric `val_loss` which is not available. Available metrics are: loss\n",
      "581/581 [==============================] - 9s 16ms/step - loss: 0.0023\n",
      "Epoch 13/15\n",
      "580/581 [============================>.] - ETA: 0s - loss: 0.0023WARNING:tensorflow:Early stopping conditioned on metric `val_loss` which is not available. Available metrics are: loss\n",
      "581/581 [==============================] - 9s 15ms/step - loss: 0.0023\n",
      "Epoch 14/15\n",
      "578/581 [============================>.] - ETA: 0s - loss: 0.0022WARNING:tensorflow:Early stopping conditioned on metric `val_loss` which is not available. Available metrics are: loss\n",
      "581/581 [==============================] - 9s 15ms/step - loss: 0.0022\n",
      "Epoch 15/15\n",
      "580/581 [============================>.] - ETA: 0s - loss: 0.0021WARNING:tensorflow:Early stopping conditioned on metric `val_loss` which is not available. Available metrics are: loss\n",
      "581/581 [==============================] - 9s 15ms/step - loss: 0.0021\n"
     ]
    }
   ],
   "source": [
    "import tensorflow as tf\n",
    "from tensorflow import keras\n",
    "from tensorflow.keras import layers\n",
    "from tensorflow.keras.callbacks import EarlyStopping\n",
    "\n",
    "x_train = sequenced_simulated_normal\n",
    "\n",
    "# Define the early stopping callback\n",
    "early_stopping = EarlyStopping(\n",
    "    monitor='val_loss',  # Monitor validation loss for early stopping\n",
    "    patience=10,         # Number of epochs with no improvement before stopping\n",
    "    restore_best_weights=True  # Restore model weights to the best epoch\n",
    ")\n",
    "\n",
    "ae_model = keras.Sequential(\n",
    "    [\n",
    "        layers.Input(shape=(x_train.shape[1], x_train.shape[2])), \n",
    "        layers.LSTM(16, activation=\"relu\", return_sequences=True),\n",
    "        layers.Dropout(0.2),\n",
    "        layers.LSTM(4, activation=\"relu\", return_sequences=False),\n",
    "        layers.RepeatVector(x_train.shape[1]),\n",
    "        layers.LSTM(4, activation=\"relu\", return_sequences=True),\n",
    "        layers.Dropout(0.2),\n",
    "        layers.LSTM(16, activation=\"relu\", return_sequences=True),\n",
    "        layers.TimeDistributed(layers.Dense(x_train.shape[2])) \n",
    "    ]\n",
    ") \n",
    "\n",
    "ae_model.compile(loss='mean_squared_error', optimizer='adam')\n",
    "history = ae_model.fit(\n",
    "    x_train, x_train,\n",
    "    epochs=15,\n",
    "    batch_size=batch_size,\n",
    "    callbacks=[early_stopping]  # Add the early stopping callback\n",
    ")"
   ]
  },
  {
   "cell_type": "markdown",
   "id": "57a886c5",
   "metadata": {},
   "source": [
    "## model evaluation (ae_model)"
   ]
  },
  {
   "cell_type": "code",
   "execution_count": 271,
   "id": "fb174cab",
   "metadata": {},
   "outputs": [
    {
     "name": "stdout",
     "output_type": "stream",
     "text": [
      "581/581 [==============================] - 2s 4ms/step\n",
      "581/581 [==============================] - 2s 4ms/step\n",
      "581/581 [==============================] - 2s 4ms/step\n"
     ]
    }
   ],
   "source": [
    "X_train_pred = ae_model.predict(sequenced_simulated_normal)\n",
    "train_mse_loss = np.mean(np.square(X_train_pred - sequenced_simulated_normal), axis=(1, 2))\n",
    "\n",
    "X_test_pred_simulated_anomaly = ae_model.predict(sequenced_simulated_anomaly)\n",
    "test_simulated_anomaly_mse_loss = np.mean(np.square(X_test_pred_simulated_anomaly - sequenced_simulated_anomaly), axis=(1, 2))\n",
    "\n",
    "X_test_pred_real = ae_model.predict(sequenced_real)\n",
    "test_real_mse_loss = np.mean(np.square(X_test_pred_real - sequenced_real), axis=(1, 2))"
   ]
  },
  {
   "cell_type": "code",
   "execution_count": 272,
   "id": "57afa7c4",
   "metadata": {},
   "outputs": [
    {
     "name": "stdout",
     "output_type": "stream",
     "text": [
      "  1/492 [..............................] - ETA: 11s"
     ]
    },
    {
     "name": "stdout",
     "output_type": "stream",
     "text": [
      "492/492 [==============================] - 2s 4ms/step\n"
     ]
    }
   ],
   "source": [
    "X_test_pred_real_normal = ae_model.predict(sequenced_real_normal)\n",
    "test_real_normal_mse_loss = np.mean(np.square(X_test_pred_real_normal - sequenced_real_normal), axis=(1, 2))"
   ]
  },
  {
   "cell_type": "markdown",
   "id": "5e2763ac",
   "metadata": {},
   "source": [
    "### train on real and test on simulated to ensure our model setup is correct"
   ]
  },
  {
   "cell_type": "code",
   "execution_count": 207,
   "id": "c9398ade",
   "metadata": {},
   "outputs": [
    {
     "name": "stdout",
     "output_type": "stream",
     "text": [
      "581/581 [==============================] - 2s 4ms/step\n",
      "581/581 [==============================] - 2s 4ms/step\n",
      "581/581 [==============================] - 2s 4ms/step\n"
     ]
    }
   ],
   "source": [
    "X_train_pred = ae_model.predict(sequenced_real)\n",
    "train_mse_loss = np.mean(np.square(X_train_pred - sequenced_real), axis=(1, 2))\n",
    "\n",
    "X_test_pred_simulated_anomaly = ae_model.predict(sequenced_simulated_anomaly)\n",
    "test_simulated_anomaly_mse_loss = np.mean(np.square(X_test_pred_simulated_anomaly - sequenced_simulated_anomaly), axis=(1, 2))\n",
    "\n",
    "X_test_pred_simulated_normal = ae_model.predict(sequenced_simulated_normal)\n",
    "test_simulated_normal_mse_loss = np.mean(np.square(X_test_pred_simulated_normal - sequenced_simulated_normal), axis=(1, 2))"
   ]
  },
  {
   "cell_type": "code",
   "execution_count": 274,
   "id": "117898bf",
   "metadata": {},
   "outputs": [
    {
     "data": {
      "image/png": "[encoded data removed]",
      "text/plain": [
       "<Figure size 1000x500 with 1 Axes>"
      ]
     },
     "metadata": {},
     "output_type": "display_data"
    },
    {
     "name": "stdout",
     "output_type": "stream",
     "text": [
      "Reconstruction error threshold:  0.012102974156105216\n"
     ]
    }
   ],
   "source": [
    "# Plotting training MSE loss\n",
    "plt.hist(train_mse_loss, bins=50, color='blue', alpha=0.6, label=\"Train MSE (real)\")\n",
    "\n",
    "# Plotting test MSE loss for simulated anomalies\n",
    "plt.hist(test_simulated_anomaly_mse_loss, bins=50, color='green', alpha=0.6, label=\"Test MSE (Simulated Anomaly)\")\n",
    "\n",
    "plt.hist(test_real_mse_loss, bins=50, color='pink', alpha=0.6, label=\"Test MSE (simulated normal)\")\n",
    "\n",
    "plt.hist(test_real_normal_mse_loss, bins=50, color='orange', alpha=0.6, label=\"Test MSE (simulated normal)\")\n",
    "\n",
    "threshold = np.percentile(train_mse_loss, 95)\n",
    "plt.axvline(x=threshold, color='red')\n",
    "plt.xlabel(\"MSE loss\")\n",
    "plt.ylabel(\"No of samples\")\n",
    "plt.legend(loc='upper right')  # Displaying the legend to distinguish the histograms\n",
    "plt.show()\n",
    "\n",
    "print(\"Reconstruction error threshold: \", threshold)"
   ]
  },
  {
   "cell_type": "code",
   "execution_count": 212,
   "id": "5c4b16ea",
   "metadata": {},
   "outputs": [
    {
     "name": "stdout",
     "output_type": "stream",
     "text": [
      "1162/1162 [==============================] - 4s 4ms/step\n"
     ]
    }
   ],
   "source": [
    "X_test_pred_simulated = ae_model.predict(sequenced_simulated)\n",
    "test_simulated_mse_loss = np.mean(np.square(X_test_pred_simulated - sequenced_simulated), axis=(1, 2))\n",
    "sequenced_simulated_y = sequence_data(simulated_y, simulated_data['ID'], timestep=num_timestep)"
   ]
  },
  {
   "cell_type": "code",
   "execution_count": 276,
   "id": "5573ddfe",
   "metadata": {},
   "outputs": [
    {
     "name": "stdout",
     "output_type": "stream",
     "text": [
      "Best Threshold: 0.01\n",
      "Best AUC: 0.3978703115066751\n"
     ]
    }
   ],
   "source": [
    "from sklearn.metrics import roc_auc_score\n",
    "\n",
    "# Generate a list of potential thresholds\n",
    "thresholds = [0.01]  # 100 thresholds evenly spaced\n",
    "\n",
    "majority_simulated_y = sequenced_real_labels\n",
    "\n",
    "best_threshold = None\n",
    "best_auc = -1\n",
    "\n",
    "for threshold in thresholds:\n",
    "    pred_simulated_label = (test_real_mse_loss > threshold).astype(int)\n",
    "    auc = roc_auc_score(majority_simulated_y, pred_simulated_label)\n",
    "    \n",
    "    if auc > best_auc:\n",
    "        best_auc = auc\n",
    "        best_threshold = threshold\n",
    "\n",
    "print(f\"Best Threshold: {best_threshold}\")\n",
    "print(f\"Best AUC: {best_auc}\")"
   ]
  },
  {
   "cell_type": "code",
   "execution_count": 270,
   "id": "3069b8b8",
   "metadata": {},
   "outputs": [
    {
     "data": {
      "text/plain": [
       "array([0.06380356, 0.06385774, 0.0638234 , ..., 0.1442326 , 0.14423932,\n",
       "       0.14427098])"
      ]
     },
     "execution_count": 270,
     "metadata": {},
     "output_type": "execute_result"
    }
   ],
   "source": [
    "test_real_mse_loss"
   ]
  },
  {
   "cell_type": "markdown",
   "id": "1cf553b4",
   "metadata": {},
   "source": [
    "### train on simulated and test on real"
   ]
  },
  {
   "cell_type": "code",
   "execution_count": null,
   "id": "c72756fe",
   "metadata": {},
   "outputs": [],
   "source": [
    "from sklearn.metrics import roc_auc_score\n",
    "\n",
    "# Generate a list of potential thresholds\n",
    "thresholds = np.linspace(0.015, 0.1, 100)  # 100 thresholds evenly spaced\n",
    "\n",
    "best_threshold = None\n",
    "best_auc = -1\n",
    "\n",
    "for threshold in thresholds:\n",
    "    pred_real_label = (test_real_mse_loss > threshold).astype(int)\n",
    "    auc = roc_auc_score(majority_real_y, pred_real_label)\n",
    "    \n",
    "    if auc > best_auc:\n",
    "        best_auc = auc\n",
    "        best_threshold = threshold\n",
    "\n",
    "print(f\"Best Threshold: {best_threshold}\")\n",
    "print(f\"Best AUC: {best_auc}\")"
   ]
  },
  {
   "cell_type": "code",
   "execution_count": 193,
   "id": "886f1ef6",
   "metadata": {},
   "outputs": [],
   "source": [
    "threshold = best_threshold"
   ]
  },
  {
   "cell_type": "code",
   "execution_count": 194,
   "id": "24b1df3a",
   "metadata": {},
   "outputs": [
    {
     "data": {
      "image/png": "[encoded data removed]",
      "text/plain": [
       "<Figure size 1000x500 with 1 Axes>"
      ]
     },
     "metadata": {},
     "output_type": "display_data"
    },
    {
     "name": "stdout",
     "output_type": "stream",
     "text": [
      "Reconstruction error threshold:  0.033030303030303035\n"
     ]
    }
   ],
   "source": [
    "# Plotting training MSE loss\n",
    "plt.hist(train_mse_loss, bins=50, color='blue', alpha=0.6, label=\"Train MSE (Simulated Normal)\")\n",
    "\n",
    "# Plotting test MSE loss for simulated anomalies\n",
    "plt.hist(test_simulated_anomaly_mse_loss, bins=50, color='green', alpha=0.6, label=\"Test MSE (Simulated Anomaly)\")\n",
    "\n",
    "plt.hist(test_real_mse_loss, bins=50, color='pink', alpha=0.6, label=\"Test MSE (Real Samples)\")\n",
    "\n",
    "plt.axvline(x=threshold, color='red')\n",
    "plt.xlabel(\"MSE loss\")\n",
    "plt.ylabel(\"No of samples\")\n",
    "plt.legend(loc='upper right')  # Displaying the legend to distinguish the histograms\n",
    "plt.show()\n",
    "\n",
    "print(\"Reconstruction error threshold: \", threshold)\n"
   ]
  },
  {
   "cell_type": "code",
   "execution_count": 195,
   "id": "151cd527",
   "metadata": {},
   "outputs": [
    {
     "name": "stdout",
     "output_type": "stream",
     "text": [
      "Accuracy:  0.19397525551371705\n",
      "\n",
      "f1:  0.27480398799728967\n",
      "\n",
      "conf_matrix:  [[  767 14963]\n",
      " [   21  2839]]\n",
      "\n",
      "auc:  0.5207088366179274\n",
      "\n",
      "fpr:  [0.         0.95123967 1.        ]\n",
      "\n",
      "tpr:  [0.         0.99265734 1.        ]\n"
     ]
    }
   ],
   "source": [
    "from sklearn.metrics import accuracy_score, f1_score, confusion_matrix, roc_auc_score, roc_curve\n",
    "\n",
    "\n",
    "pred_real_label = (test_real_mse_loss > threshold).astype(int)\n",
    "majority_real_y = np.round(np.mean(sequenced_real_y, axis=1))\n",
    "\n",
    "\n",
    "# Metrics\n",
    "accuracy = accuracy_score(majority_real_y, pred_real_label)\n",
    "f1 = f1_score(majority_real_y, pred_real_label)\n",
    "conf_matrix = confusion_matrix(majority_real_y, pred_real_label)\n",
    "auc = roc_auc_score(majority_real_y, pred_real_label)\n",
    "fpr, tpr, _ = roc_curve(majority_real_y, pred_real_label)\n",
    "\n",
    "print(\"Accuracy: \", accuracy)\n",
    "print(\"\\nf1: \", f1)\n",
    "print(\"\\nconf_matrix: \", conf_matrix)\n",
    "print(\"\\nauc: \", auc)\n",
    "print(\"\\nfpr: \", fpr)\n",
    "print(\"\\ntpr: \", tpr)"
   ]
  },
  {
   "cell_type": "code",
   "execution_count": 192,
   "id": "5c3f5409",
   "metadata": {},
   "outputs": [
    {
     "name": "stdout",
     "output_type": "stream",
     "text": [
      "Best Threshold: 0.033030303030303035\n",
      "Best AUC: 0.5207088366179274\n"
     ]
    }
   ],
   "source": [
    "from sklearn.metrics import roc_auc_score\n",
    "\n",
    "# Generate a list of potential thresholds\n",
    "thresholds = np.linspace(0.015, 0.1, 100)  # 100 thresholds evenly spaced\n",
    "\n",
    "best_threshold = None\n",
    "best_auc = -1\n",
    "\n",
    "for threshold in thresholds:\n",
    "    pred_real_label = (test_real_mse_loss > threshold).astype(int)\n",
    "    auc = roc_auc_score(majority_real_y, pred_real_label)\n",
    "    \n",
    "    if auc > best_auc:\n",
    "        best_auc = auc\n",
    "        best_threshold = threshold\n",
    "\n",
    "print(f\"Best Threshold: {best_threshold}\")\n",
    "print(f\"Best AUC: {best_auc}\")"
   ]
  },
  {
   "cell_type": "markdown",
   "id": "50a5b59b",
   "metadata": {},
   "source": [
    "## model evaluation (best model)"
   ]
  },
  {
   "cell_type": "code",
   "execution_count": 236,
   "id": "a1686935",
   "metadata": {},
   "outputs": [
    {
     "name": "stdout",
     "output_type": "stream",
     "text": [
      "  1/581 [..............................] - ETA: 15s"
     ]
    },
    {
     "name": "stdout",
     "output_type": "stream",
     "text": [
      "581/581 [==============================] - 2s 4ms/step\n",
      "581/581 [==============================] - 2s 4ms/step\n",
      "581/581 [==============================] - 2s 4ms/step\n"
     ]
    }
   ],
   "source": [
    "import matplotlib.pyplot as plt\n",
    "\n",
    "X_train_pred = best_model.predict(sequenced_simulated_normal)\n",
    "train_mse_loss = np.mean(np.square(X_train_pred - sequenced_simulated_normal), axis=(1, 2))\n",
    "\n",
    "# test\n",
    "X_test_pred_simulated_anomaly = best_model.predict(sequenced_simulated_anomaly)\n",
    "test_simulated_anomaly_mse_loss = np.mean(np.square(X_test_pred_simulated_anomaly - sequenced_simulated_anomaly), axis=(1, 2))\n",
    "\n",
    "X_test_pred_real = best_model.predict(sequenced_real)\n",
    "test_real_mse_loss = np.mean(np.square(X_test_pred_real - sequenced_real), axis=(1, 2))"
   ]
  },
  {
   "cell_type": "code",
   "execution_count": 246,
   "id": "e1e4c946",
   "metadata": {},
   "outputs": [
    {
     "name": "stdout",
     "output_type": "stream",
     "text": [
      "492/492 [==============================] - 2s 4ms/step\n"
     ]
    }
   ],
   "source": [
    "X_test_pred_real_normal = best_model.predict(sequenced_real_normal)\n",
    "test_real_normal_mse_loss = np.mean(np.square(X_test_pred_real_normal - sequenced_real_normal), axis=(1, 2))\n"
   ]
  },
  {
   "cell_type": "code",
   "execution_count": 237,
   "id": "47381f17",
   "metadata": {},
   "outputs": [
    {
     "data": {
      "image/png": "[encoded data removed]",
      "text/plain": [
       "<Figure size 1000x500 with 1 Axes>"
      ]
     },
     "metadata": {},
     "output_type": "display_data"
    },
    {
     "name": "stdout",
     "output_type": "stream",
     "text": [
      "Reconstruction error threshold:  0.08585754770701202\n"
     ]
    }
   ],
   "source": [
    "threshold = np.percentile(train_mse_loss, 95)\n",
    "\n",
    "plt.hist(train_mse_loss, bins=50)\n",
    "plt.xlabel(\"Train MSE loss (Trained on Simulated Normal Samples)\")\n",
    "plt.ylabel(\"No of samples\")\n",
    "plt.axvline(x=threshold, color='red')\n",
    "plt.show()\n",
    "\n",
    "print(\"Reconstruction error threshold: \", threshold)"
   ]
  },
  {
   "cell_type": "code",
   "execution_count": 238,
   "id": "1bdc07d2",
   "metadata": {},
   "outputs": [
    {
     "data": {
      "image/png": "[encoded data removed]",
      "text/plain": [
       "<Figure size 1000x500 with 1 Axes>"
      ]
     },
     "metadata": {},
     "output_type": "display_data"
    }
   ],
   "source": [
    "plt.hist(test_simulated_anomaly_mse_loss, bins=50)\n",
    "plt.xlabel(\"Test MSE loss (Simulated Anomaly Samples)\")\n",
    "plt.ylabel(\"No of samples\")\n",
    "plt.axvline(x=threshold, color='red')\n",
    "plt.show()"
   ]
  },
  {
   "cell_type": "code",
   "execution_count": 239,
   "id": "67a7dc1a",
   "metadata": {},
   "outputs": [
    {
     "data": {
      "image/png": "[encoded data removed]",
      "text/plain": [
       "<Figure size 1000x500 with 1 Axes>"
      ]
     },
     "metadata": {},
     "output_type": "display_data"
    }
   ],
   "source": [
    "plt.hist(test_real_mse_loss, bins=50)\n",
    "plt.xlabel(\"Test MSE loss (Real Samples)\")\n",
    "plt.ylabel(\"No of samples\")\n",
    "plt.axvline(x=threshold, color='red')\n",
    "plt.show()"
   ]
  },
  {
   "cell_type": "code",
   "execution_count": 248,
   "id": "38938104",
   "metadata": {},
   "outputs": [
    {
     "data": {
      "image/png": "[encoded data removed]",
      "text/plain": [
       "<Figure size 1000x500 with 1 Axes>"
      ]
     },
     "metadata": {},
     "output_type": "display_data"
    },
    {
     "name": "stdout",
     "output_type": "stream",
     "text": [
      "Reconstruction error threshold:  0.005740566724759848\n"
     ]
    }
   ],
   "source": [
    "# Plotting training MSE loss\n",
    "plt.hist(train_mse_loss, bins=50, color='blue', alpha=0.6, label=\"Train MSE (Simulated Normal)\")\n",
    "\n",
    "# Plotting test MSE loss for simulated anomalies\n",
    "plt.hist(test_simulated_anomaly_mse_loss, bins=50, color='green', alpha=0.6, label=\"Test MSE (Simulated Anomaly)\")\n",
    "\n",
    "plt.hist(test_real_mse_loss, bins=50, color='pink', alpha=0.6, label=\"Test MSE (Real Samples)\")\n",
    "\n",
    "plt.axvline(x=threshold, color='red')\n",
    "plt.xlabel(\"MSE loss\")\n",
    "plt.ylabel(\"No of samples\")\n",
    "plt.legend(loc='upper right')  # Displaying the legend to distinguish the histograms\n",
    "plt.show()\n",
    "\n",
    "print(\"Reconstruction error threshold: \", threshold)\n"
   ]
  },
  {
   "cell_type": "code",
   "execution_count": 242,
   "id": "b2a58f96",
   "metadata": {},
   "outputs": [],
   "source": [
    "threshold = 0.1"
   ]
  },
  {
   "cell_type": "code",
   "execution_count": 243,
   "id": "5199a791",
   "metadata": {},
   "outputs": [
    {
     "name": "stdout",
     "output_type": "stream",
     "text": [
      "Accuracy:  0.6008606777837547\n",
      "\n",
      "f1:  0.008286554397219995\n",
      "\n",
      "conf_matrix:  [[11139  4591]\n",
      " [ 2829    31]]\n",
      "\n",
      "auc:  0.3594882390336936\n",
      "\n",
      "fpr:  [0.         0.29186268 1.        ]\n",
      "\n",
      "tpr:  [0.         0.01083916 1.        ]\n"
     ]
    }
   ],
   "source": [
    "from sklearn.metrics import accuracy_score, f1_score, confusion_matrix, roc_auc_score, roc_curve\n",
    "\n",
    "\n",
    "pred_real_label = (test_real_mse_loss > threshold).astype(int)\n",
    "\n",
    "# Metrics\n",
    "accuracy = accuracy_score(sequenced_real_labels , pred_real_label)\n",
    "f1 = f1_score(sequenced_real_labels , pred_real_label)\n",
    "conf_matrix = confusion_matrix(sequenced_real_labels , pred_real_label)\n",
    "auc = roc_auc_score(sequenced_real_labels , pred_real_label)\n",
    "fpr, tpr, _ = roc_curve(sequenced_real_labels , pred_real_label)\n",
    "\n",
    "print(\"Accuracy: \", accuracy)\n",
    "print(\"\\nf1: \", f1)\n",
    "print(\"\\nconf_matrix: \", conf_matrix)\n",
    "print(\"\\nauc: \", auc)\n",
    "print(\"\\nfpr: \", fpr)\n",
    "print(\"\\ntpr: \", tpr)"
   ]
  },
  {
   "cell_type": "code",
   "execution_count": 244,
   "id": "ce946a5d",
   "metadata": {},
   "outputs": [
    {
     "name": "stdout",
     "output_type": "stream",
     "text": [
      "Best Threshold: 0.015\n",
      "Best AUC: 0.44489828353464717\n"
     ]
    }
   ],
   "source": [
    "from sklearn.metrics import roc_auc_score\n",
    "\n",
    "# Generate a list of potential thresholds\n",
    "thresholds = np.linspace(0.015, 0.1, 100)  # 100 thresholds evenly spaced\n",
    "\n",
    "best_threshold = None\n",
    "best_auc = -1\n",
    "\n",
    "for threshold in thresholds:\n",
    "    pred_real_label = (test_real_mse_loss > threshold).astype(int)\n",
    "    auc = roc_auc_score(sequenced_real_labels, pred_real_label)\n",
    "    \n",
    "    if auc > best_auc:\n",
    "        best_auc = auc\n",
    "        best_threshold = threshold\n",
    "\n",
    "print(f\"Best Threshold: {best_threshold}\")\n",
    "print(f\"Best AUC: {best_auc}\")\n"
   ]
  },
  {
   "cell_type": "code",
   "execution_count": 245,
   "id": "6bad2a47",
   "metadata": {},
   "outputs": [
    {
     "name": "stdout",
     "output_type": "stream",
     "text": [
      "Optimal Threshold:  0.006127357434611039\n",
      "Accuracy:  0.1560516406670253\n",
      "F1:  0.26710888961554635\n",
      "Confusion Matrix:  [[   42 15688]\n",
      " [    1  2859]]\n",
      "AUC:  0.21536678832928038\n"
     ]
    },
    {
     "data": {
      "image/png": "[encoded data removed]",
      "text/plain": [
       "<Figure size 1000x600 with 1 Axes>"
      ]
     },
     "metadata": {},
     "output_type": "display_data"
    }
   ],
   "source": [
    "from sklearn.metrics import accuracy_score, f1_score, confusion_matrix, roc_auc_score, roc_curve\n",
    "import matplotlib.pyplot as plt\n",
    "\n",
    "# Assuming test_real_mse_loss contains the MSE loss for each test instance\n",
    "predicted_probs = test_real_mse_loss\n",
    "\n",
    "majority_real_y = sequenced_real_labels\n",
    "\n",
    "# ROC Metrics\n",
    "fpr, tpr, thresholds = roc_curve(majority_real_y, predicted_probs)\n",
    "auc = roc_auc_score(majority_real_y, predicted_probs)\n",
    "\n",
    "# Finding the optimal threshold based on best F1 score\n",
    "best_f1 = 0\n",
    "best_threshold = thresholds[0]\n",
    "for threshold in thresholds:\n",
    "    pred_real_label = (predicted_probs > threshold).astype(int)\n",
    "    current_f1 = f1_score(majority_real_y, pred_real_label)\n",
    "    if current_f1 > best_f1:\n",
    "        best_f1 = current_f1\n",
    "        best_threshold = threshold\n",
    "\n",
    "# Metrics at the best threshold\n",
    "pred_real_label = (predicted_probs > best_threshold).astype(int)\n",
    "accuracy = accuracy_score(majority_real_y, pred_real_label)\n",
    "f1 = f1_score(majority_real_y, pred_real_label)\n",
    "conf_matrix = confusion_matrix(majority_real_y, pred_real_label)\n",
    "\n",
    "print(\"Optimal Threshold: \", best_threshold)\n",
    "print(\"Accuracy: \", accuracy)\n",
    "print(\"F1: \", f1)\n",
    "print(\"Confusion Matrix: \", conf_matrix)\n",
    "print(\"AUC: \", auc)\n",
    "\n",
    "# Plotting ROC Curve\n",
    "plt.figure(figsize=(10, 6))\n",
    "plt.plot(fpr, tpr, label=f\"AUC = {auc:.4f}\")\n",
    "plt.plot([0, 1], [0, 1], '--', color='grey')\n",
    "plt.xlabel('False Positive Rate')\n",
    "plt.ylabel('True Positive Rate')\n",
    "plt.title('ROC Curve')\n",
    "plt.legend()\n",
    "plt.show()\n"
   ]
  }
 ],
 "metadata": {
  "kernelspec": {
   "display_name": "Python 3 (ipykernel)",
   "language": "python",
   "name": "python3"
  },
  "language_info": {
   "codemirror_mode": {
    "name": "ipython",
    "version": 3
   },
   "file_extension": ".py",
   "mimetype": "text/x-python",
   "name": "python",
   "nbconvert_exporter": "python",
   "pygments_lexer": "ipython3",
   "version": "3.10.5"
  }
 },
 "nbformat": 4,
 "nbformat_minor": 5
}
